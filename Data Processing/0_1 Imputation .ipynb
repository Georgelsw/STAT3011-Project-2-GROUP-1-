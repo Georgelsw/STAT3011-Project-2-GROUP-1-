{
 "cells": [
  {
   "cell_type": "code",
   "execution_count": 1,
   "id": "454d67b5",
   "metadata": {},
   "outputs": [
    {
     "name": "stdout",
     "output_type": "stream",
     "text": [
      "Table contains 3510 rows and 21 columns\n"
     ]
    }
   ],
   "source": [
    "import pandas as pd\n",
    "import numpy as np\n",
    "import matplotlib.pyplot as plt\n",
    "import seaborn as sns\n",
    "##download the csv file from the link\n",
    "pizza = pd.read_csv(\"https://raw.githubusercontent.com/rajeevratan84/data-analyst-bootcamp/master/8358_1.csv\")\n",
    "num_rows, num_cols = pizza.shape\n",
    "#define df.shape with the number of rows and columns\n",
    "print(f\"Table contains {num_rows} rows and {num_cols} columns\")"
   ]
  },
  {
   "cell_type": "code",
   "execution_count": 2,
   "id": "2ef58564",
   "metadata": {},
   "outputs": [
    {
     "name": "stdout",
     "output_type": "stream",
     "text": [
      "<class 'pandas.core.frame.DataFrame'>\n",
      "RangeIndex: 3510 entries, 0 to 3509\n",
      "Data columns (total 21 columns):\n",
      " #   Column              Non-Null Count  Dtype  \n",
      "---  ------              --------------  -----  \n",
      " 0   id                  3510 non-null   object \n",
      " 1   address             3510 non-null   object \n",
      " 2   categories          3510 non-null   object \n",
      " 3   city                3510 non-null   object \n",
      " 4   country             3510 non-null   object \n",
      " 5   keys                3510 non-null   object \n",
      " 6   latitude            3510 non-null   float64\n",
      " 7   longitude           3510 non-null   float64\n",
      " 8   menuPageURL         610 non-null    object \n",
      " 9   menus.amountMax     2948 non-null   float64\n",
      " 10  menus.amountMin     2948 non-null   float64\n",
      " 11  menus.currency      2951 non-null   object \n",
      " 12  menus.dateSeen      3510 non-null   object \n",
      " 13  menus.description   1526 non-null   object \n",
      " 14  menus.name          3510 non-null   object \n",
      " 15  name                3510 non-null   object \n",
      " 16  postalCode          3484 non-null   object \n",
      " 17  priceRangeCurrency  1557 non-null   object \n",
      " 18  priceRangeMin       1557 non-null   float64\n",
      " 19  priceRangeMax       1557 non-null   float64\n",
      " 20  province            3510 non-null   object \n",
      "dtypes: float64(6), object(15)\n",
      "memory usage: 576.0+ KB\n"
     ]
    }
   ],
   "source": [
    "pizza.info() ## Find out the names of columns i"
   ]
  },
  {
   "cell_type": "code",
   "execution_count": 3,
   "id": "d06febbb",
   "metadata": {},
   "outputs": [
    {
     "data": {
      "text/plain": [
       "562"
      ]
     },
     "execution_count": 3,
     "metadata": {},
     "output_type": "execute_result"
    }
   ],
   "source": [
    "pizza['menus.amountMax'].isnull().values.any() ### Check whether the menus.max column includes the Nah values.\n",
    "pizza['menus.amountMax'].isnull().sum() ### Count the Nah row values\n",
    "####From the result, we found 562 NA data"
   ]
  },
  {
   "cell_type": "code",
   "execution_count": 4,
   "id": "8c42d57d",
   "metadata": {},
   "outputs": [
    {
     "name": "stdout",
     "output_type": "stream",
     "text": [
      "There is 1 zero data in menus.amountMax\n"
     ]
    }
   ],
   "source": [
    "import numpy as np\n",
    "zerodata=pizza.shape[0]-np.count_nonzero(pizza['menus.amountMax'])\n",
    "### use the row numbers- nonzero row numbers to find the zero value\n",
    "print(f\"There is {zerodata} zero data in menus.amountMax\")\n",
    "###From the result,we found 1 zero data"
   ]
  },
  {
   "cell_type": "code",
   "execution_count": 5,
   "id": "6420d5cf",
   "metadata": {},
   "outputs": [],
   "source": [
    "import numpy as np\n",
    "from sklearn.impute import SimpleImputer\n",
    "\n",
    "mean_imputer = SimpleImputer(missing_values=np.nan,strategy='mean')\n",
    "pizza['menus.amountMax'] = mean_imputer.fit_transform(pizza['menus.amountMax'].values.reshape(-1,1))\n",
    "pizza['menus.amountMin'] = mean_imputer.fit_transform(pizza['menus.amountMin'].values.reshape(-1,1))\n",
    "###Use imputation to replace NA data by mean"
   ]
  },
  {
   "cell_type": "code",
   "execution_count": 6,
   "id": "8d4e300e",
   "metadata": {},
   "outputs": [],
   "source": [
    "mean_imputer = SimpleImputer(missing_values=0,strategy='mean')\n",
    "pizza['menus.amountMax'] = mean_imputer.fit_transform(pizza['menus.amountMax'].values.reshape(-1,1))\n",
    "pizza['menus.amountMin'] = mean_imputer.fit_transform(pizza['menus.amountMin'].values.reshape(-1,1))\n",
    "###Use imputation to replace zero data by mean\n"
   ]
  },
  {
   "cell_type": "code",
   "execution_count": 7,
   "id": "1dcd2bd1",
   "metadata": {},
   "outputs": [
    {
     "name": "stdout",
     "output_type": "stream",
     "text": [
      "There is 0 zero data in menus.amountMax\n"
     ]
    }
   ],
   "source": [
    "import numpy as np\n",
    "zerodata=pizza.shape[0]-np.count_nonzero(pizza['menus.amountMax'])\n",
    "print(f\"There is {zerodata} zero data in menus.amountMax\") ## find out the zero data after imputation."
   ]
  },
  {
   "cell_type": "code",
   "execution_count": 8,
   "id": "f67b0f0d",
   "metadata": {},
   "outputs": [
    {
     "data": {
      "text/plain": [
       "0"
      ]
     },
     "execution_count": 8,
     "metadata": {},
     "output_type": "execute_result"
    }
   ],
   "source": [
    "pizza['menus.amountMax'].isnull().sum()## find out the nah data after imputation.\n"
   ]
  },
  {
   "cell_type": "code",
   "execution_count": 9,
   "id": "b2d80113",
   "metadata": {},
   "outputs": [
    {
     "data": {
      "text/plain": [
       "0"
      ]
     },
     "execution_count": 9,
     "metadata": {},
     "output_type": "execute_result"
    }
   ],
   "source": [
    "pizza['menus.amountMin'].isnull().sum()## find out the nah data after imputation."
   ]
  },
  {
   "cell_type": "code",
   "execution_count": 10,
   "id": "b47eca8b",
   "metadata": {},
   "outputs": [
    {
     "data": {
      "text/html": [
       "<div>\n",
       "<style scoped>\n",
       "    .dataframe tbody tr th:only-of-type {\n",
       "        vertical-align: middle;\n",
       "    }\n",
       "\n",
       "    .dataframe tbody tr th {\n",
       "        vertical-align: top;\n",
       "    }\n",
       "\n",
       "    .dataframe thead th {\n",
       "        text-align: right;\n",
       "    }\n",
       "</style>\n",
       "<table border=\"1\" class=\"dataframe\">\n",
       "  <thead>\n",
       "    <tr style=\"text-align: right;\">\n",
       "      <th></th>\n",
       "      <th>id</th>\n",
       "      <th>address</th>\n",
       "      <th>categories</th>\n",
       "      <th>city</th>\n",
       "      <th>country</th>\n",
       "      <th>keys</th>\n",
       "      <th>latitude</th>\n",
       "      <th>longitude</th>\n",
       "      <th>menuPageURL</th>\n",
       "      <th>menus.amountMax</th>\n",
       "      <th>...</th>\n",
       "      <th>menus.dateSeen</th>\n",
       "      <th>menus.description</th>\n",
       "      <th>menus.name</th>\n",
       "      <th>name</th>\n",
       "      <th>postalCode</th>\n",
       "      <th>priceRangeCurrency</th>\n",
       "      <th>priceRangeMin</th>\n",
       "      <th>priceRangeMax</th>\n",
       "      <th>province</th>\n",
       "      <th>average_price</th>\n",
       "    </tr>\n",
       "  </thead>\n",
       "  <tbody>\n",
       "    <tr>\n",
       "      <th>0</th>\n",
       "      <td>AVwc_6KEIN2L1WUfrKAH</td>\n",
       "      <td>Cascade Village Mall Across From Target</td>\n",
       "      <td>Pizza Place</td>\n",
       "      <td>Bend</td>\n",
       "      <td>US</td>\n",
       "      <td>us/or/bend/cascadevillagemallacrossfromtarget/...</td>\n",
       "      <td>44.102665</td>\n",
       "      <td>-121.300797</td>\n",
       "      <td>NaN</td>\n",
       "      <td>22.50</td>\n",
       "      <td>...</td>\n",
       "      <td>2016-03-31T02:19:42Z</td>\n",
       "      <td>NaN</td>\n",
       "      <td>Bianca Pizza</td>\n",
       "      <td>Little Pizza Paradise</td>\n",
       "      <td>97701</td>\n",
       "      <td>NaN</td>\n",
       "      <td>NaN</td>\n",
       "      <td>NaN</td>\n",
       "      <td>OR</td>\n",
       "      <td>19.00</td>\n",
       "    </tr>\n",
       "    <tr>\n",
       "      <th>1</th>\n",
       "      <td>AVwc_6KEIN2L1WUfrKAH</td>\n",
       "      <td>Cascade Village Mall Across From Target</td>\n",
       "      <td>Pizza Place</td>\n",
       "      <td>Bend</td>\n",
       "      <td>US</td>\n",
       "      <td>us/or/bend/cascadevillagemallacrossfromtarget/...</td>\n",
       "      <td>44.102665</td>\n",
       "      <td>-121.300797</td>\n",
       "      <td>NaN</td>\n",
       "      <td>18.95</td>\n",
       "      <td>...</td>\n",
       "      <td>2016-03-31T02:19:42Z</td>\n",
       "      <td>NaN</td>\n",
       "      <td>Cheese Pizza</td>\n",
       "      <td>Little Pizza Paradise</td>\n",
       "      <td>97701</td>\n",
       "      <td>NaN</td>\n",
       "      <td>NaN</td>\n",
       "      <td>NaN</td>\n",
       "      <td>OR</td>\n",
       "      <td>18.95</td>\n",
       "    </tr>\n",
       "    <tr>\n",
       "      <th>2</th>\n",
       "      <td>AVwc_6qRByjofQCxkcxw</td>\n",
       "      <td>148 S Barrington Ave</td>\n",
       "      <td>American Restaurant,Bar,Bakery</td>\n",
       "      <td>Los Angeles</td>\n",
       "      <td>US</td>\n",
       "      <td>us/brentwood/losangeles/148sbarringtonave/-151...</td>\n",
       "      <td>34.064563</td>\n",
       "      <td>-118.469017</td>\n",
       "      <td>NaN</td>\n",
       "      <td>12.00</td>\n",
       "      <td>...</td>\n",
       "      <td>2015-10-23T03:57:26Z</td>\n",
       "      <td>NaN</td>\n",
       "      <td>Pizza, Margherita</td>\n",
       "      <td>The Brentwood</td>\n",
       "      <td>90049</td>\n",
       "      <td>USD</td>\n",
       "      <td>50.0</td>\n",
       "      <td>55.0</td>\n",
       "      <td>Brentwood</td>\n",
       "      <td>12.00</td>\n",
       "    </tr>\n",
       "    <tr>\n",
       "      <th>3</th>\n",
       "      <td>AVwc_6qRByjofQCxkcxw</td>\n",
       "      <td>148 S Barrington Ave</td>\n",
       "      <td>American Restaurant,Bar,Bakery</td>\n",
       "      <td>Los Angeles</td>\n",
       "      <td>US</td>\n",
       "      <td>us/brentwood/losangeles/148sbarringtonave/-151...</td>\n",
       "      <td>34.064563</td>\n",
       "      <td>-118.469017</td>\n",
       "      <td>NaN</td>\n",
       "      <td>13.00</td>\n",
       "      <td>...</td>\n",
       "      <td>2015-10-23T03:57:26Z</td>\n",
       "      <td>NaN</td>\n",
       "      <td>Pizza, Mushroom</td>\n",
       "      <td>The Brentwood</td>\n",
       "      <td>90049</td>\n",
       "      <td>USD</td>\n",
       "      <td>50.0</td>\n",
       "      <td>55.0</td>\n",
       "      <td>Brentwood</td>\n",
       "      <td>13.00</td>\n",
       "    </tr>\n",
       "    <tr>\n",
       "      <th>4</th>\n",
       "      <td>AVwc_6qRByjofQCxkcxw</td>\n",
       "      <td>148 S Barrington Ave</td>\n",
       "      <td>American Restaurant,Bar,Bakery</td>\n",
       "      <td>Los Angeles</td>\n",
       "      <td>US</td>\n",
       "      <td>us/brentwood/losangeles/148sbarringtonave/-151...</td>\n",
       "      <td>34.064563</td>\n",
       "      <td>-118.469017</td>\n",
       "      <td>NaN</td>\n",
       "      <td>13.00</td>\n",
       "      <td>...</td>\n",
       "      <td>2015-10-23T03:57:26Z</td>\n",
       "      <td>Olives, onions, capers, tomatoes</td>\n",
       "      <td>Pizza, Puttenesca</td>\n",
       "      <td>The Brentwood</td>\n",
       "      <td>90049</td>\n",
       "      <td>USD</td>\n",
       "      <td>50.0</td>\n",
       "      <td>55.0</td>\n",
       "      <td>Brentwood</td>\n",
       "      <td>13.00</td>\n",
       "    </tr>\n",
       "  </tbody>\n",
       "</table>\n",
       "<p>5 rows × 22 columns</p>\n",
       "</div>"
      ],
      "text/plain": [
       "                     id                                  address  \\\n",
       "0  AVwc_6KEIN2L1WUfrKAH  Cascade Village Mall Across From Target   \n",
       "1  AVwc_6KEIN2L1WUfrKAH  Cascade Village Mall Across From Target   \n",
       "2  AVwc_6qRByjofQCxkcxw                     148 S Barrington Ave   \n",
       "3  AVwc_6qRByjofQCxkcxw                     148 S Barrington Ave   \n",
       "4  AVwc_6qRByjofQCxkcxw                     148 S Barrington Ave   \n",
       "\n",
       "                       categories         city country  \\\n",
       "0                     Pizza Place         Bend      US   \n",
       "1                     Pizza Place         Bend      US   \n",
       "2  American Restaurant,Bar,Bakery  Los Angeles      US   \n",
       "3  American Restaurant,Bar,Bakery  Los Angeles      US   \n",
       "4  American Restaurant,Bar,Bakery  Los Angeles      US   \n",
       "\n",
       "                                                keys   latitude   longitude  \\\n",
       "0  us/or/bend/cascadevillagemallacrossfromtarget/...  44.102665 -121.300797   \n",
       "1  us/or/bend/cascadevillagemallacrossfromtarget/...  44.102665 -121.300797   \n",
       "2  us/brentwood/losangeles/148sbarringtonave/-151...  34.064563 -118.469017   \n",
       "3  us/brentwood/losangeles/148sbarringtonave/-151...  34.064563 -118.469017   \n",
       "4  us/brentwood/losangeles/148sbarringtonave/-151...  34.064563 -118.469017   \n",
       "\n",
       "  menuPageURL  menus.amountMax  ...        menus.dateSeen  \\\n",
       "0         NaN            22.50  ...  2016-03-31T02:19:42Z   \n",
       "1         NaN            18.95  ...  2016-03-31T02:19:42Z   \n",
       "2         NaN            12.00  ...  2015-10-23T03:57:26Z   \n",
       "3         NaN            13.00  ...  2015-10-23T03:57:26Z   \n",
       "4         NaN            13.00  ...  2015-10-23T03:57:26Z   \n",
       "\n",
       "                  menus.description         menus.name                   name  \\\n",
       "0                               NaN       Bianca Pizza  Little Pizza Paradise   \n",
       "1                               NaN       Cheese Pizza  Little Pizza Paradise   \n",
       "2                               NaN  Pizza, Margherita          The Brentwood   \n",
       "3                               NaN    Pizza, Mushroom          The Brentwood   \n",
       "4  Olives, onions, capers, tomatoes  Pizza, Puttenesca          The Brentwood   \n",
       "\n",
       "  postalCode priceRangeCurrency priceRangeMin priceRangeMax   province  \\\n",
       "0      97701                NaN           NaN           NaN         OR   \n",
       "1      97701                NaN           NaN           NaN         OR   \n",
       "2      90049                USD          50.0          55.0  Brentwood   \n",
       "3      90049                USD          50.0          55.0  Brentwood   \n",
       "4      90049                USD          50.0          55.0  Brentwood   \n",
       "\n",
       "   average_price  \n",
       "0          19.00  \n",
       "1          18.95  \n",
       "2          12.00  \n",
       "3          13.00  \n",
       "4          13.00  \n",
       "\n",
       "[5 rows x 22 columns]"
      ]
     },
     "execution_count": 10,
     "metadata": {},
     "output_type": "execute_result"
    }
   ],
   "source": [
    "pizza['average_price'] = (pizza['menus.amountMax'] + pizza['menus.amountMin']) / 2  \n",
    "###calculate the average_price of pizza and add the column to the data set \n",
    "pizza.head()"
   ]
  },
  {
   "cell_type": "code",
   "execution_count": 78,
   "id": "c8df040a",
   "metadata": {},
   "outputs": [],
   "source": [
    "pizza.to_csv(\"/Users/georgeli/Desktop/stat3011/Project 2/newpizzadata.csv\") \n",
    "### create a csv file in the local computer and put this data set into that file."
   ]
  },
  {
   "cell_type": "code",
   "execution_count": null,
   "id": "4d72704e",
   "metadata": {},
   "outputs": [],
   "source": []
  }
 ],
 "metadata": {
  "kernelspec": {
   "display_name": "Python 3 (ipykernel)",
   "language": "python",
   "name": "python3"
  },
  "language_info": {
   "codemirror_mode": {
    "name": "ipython",
    "version": 3
   },
   "file_extension": ".py",
   "mimetype": "text/x-python",
   "name": "python",
   "nbconvert_exporter": "python",
   "pygments_lexer": "ipython3",
   "version": "3.9.13"
  }
 },
 "nbformat": 4,
 "nbformat_minor": 5
}
